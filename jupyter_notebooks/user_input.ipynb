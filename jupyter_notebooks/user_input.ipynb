{
 "cells": [
  {
   "cell_type": "markdown",
   "metadata": {
    "slideshow": {
     "slide_type": "slide"
    }
   },
   "source": [
    "# Airbnb Property Price Finder"
   ]
  },
  {
   "cell_type": "markdown",
   "metadata": {
    "slideshow": {
     "slide_type": "fragment"
    }
   },
   "source": [
    "Data Analysts:\n",
    "    Justin Frank,\n",
    "    Leo Ramirez,\n",
    "    Tari Okoya-Koren,\n",
    "    Veohnti Afokpa,\n",
    "    Araz Ohanessian,\n",
    "    Milton Dimas"
   ]
  },
  {
   "cell_type": "code",
   "execution_count": 2,
   "metadata": {
    "slideshow": {
     "slide_type": "skip"
    }
   },
   "outputs": [],
   "source": [
    "import ipywidgets as widgets\n",
    "from ipywidgets import Layout, Button, Box"
   ]
  },
  {
   "cell_type": "code",
   "execution_count": 3,
   "metadata": {
    "slideshow": {
     "slide_type": "skip"
    }
   },
   "outputs": [],
   "source": [
    "%matplotlib inline\n",
    "import matplotlib.pyplot as plt\n",
    "import numpy as np\n",
    "import pandas as pd\n",
    "import os"
   ]
  },
  {
   "cell_type": "markdown",
   "metadata": {
    "slideshow": {
     "slide_type": "slide"
    }
   },
   "source": [
    "## With the data now cleaned and ready for use, it is imported for use in input selection"
   ]
  },
  {
   "cell_type": "code",
   "execution_count": 4,
   "metadata": {
    "slideshow": {
     "slide_type": "fragment"
    }
   },
   "outputs": [],
   "source": [
    "filepath = os.path.join('../df.csv')"
   ]
  },
  {
   "cell_type": "code",
   "execution_count": 5,
   "metadata": {
    "scrolled": true,
    "slideshow": {
     "slide_type": "skip"
    }
   },
   "outputs": [
    {
     "name": "stderr",
     "output_type": "stream",
     "text": [
      "c:\\users\\justin\\appdata\\local\\programs\\python\\python38-32\\lib\\site-packages\\IPython\\core\\interactiveshell.py:3062: DtypeWarning: Columns (50) have mixed types.Specify dtype option on import or set low_memory=False.\n",
      "  has_raised = await self.run_ast_nodes(code_ast.body, cell_name,\n"
     ]
    },
    {
     "data": {
      "text/html": [
       "<div>\n",
       "<style scoped>\n",
       "    .dataframe tbody tr th:only-of-type {\n",
       "        vertical-align: middle;\n",
       "    }\n",
       "\n",
       "    .dataframe tbody tr th {\n",
       "        vertical-align: top;\n",
       "    }\n",
       "\n",
       "    .dataframe thead th {\n",
       "        text-align: right;\n",
       "    }\n",
       "</style>\n",
       "<table border=\"1\" class=\"dataframe\">\n",
       "  <thead>\n",
       "    <tr style=\"text-align: right;\">\n",
       "      <th></th>\n",
       "      <th>id</th>\n",
       "      <th>host_since</th>\n",
       "      <th>host_response_time</th>\n",
       "      <th>host_response_rate</th>\n",
       "      <th>host_is_superhost</th>\n",
       "      <th>host_listings_count</th>\n",
       "      <th>host_identity_verified</th>\n",
       "      <th>neighbourhood_cleansed</th>\n",
       "      <th>property_type</th>\n",
       "      <th>room_type</th>\n",
       "      <th>...</th>\n",
       "      <th>child_friendly</th>\n",
       "      <th>parking</th>\n",
       "      <th>host_greeting</th>\n",
       "      <th>internet</th>\n",
       "      <th>long_term_stays</th>\n",
       "      <th>pets_allowed</th>\n",
       "      <th>private_entrance</th>\n",
       "      <th>self_check_in</th>\n",
       "      <th>time_since_first_review</th>\n",
       "      <th>time_since_last_review</th>\n",
       "    </tr>\n",
       "  </thead>\n",
       "  <tbody>\n",
       "    <tr>\n",
       "      <th>0</th>\n",
       "      <td>2060</td>\n",
       "      <td>2008-08-18</td>\n",
       "      <td>a few days or more</td>\n",
       "      <td>0-49%</td>\n",
       "      <td>0.0</td>\n",
       "      <td>0.0</td>\n",
       "      <td>0.0</td>\n",
       "      <td>Washington Heights</td>\n",
       "      <td>Other</td>\n",
       "      <td>Private room</td>\n",
       "      <td>...</td>\n",
       "      <td>0.0</td>\n",
       "      <td>0.0</td>\n",
       "      <td>0.0</td>\n",
       "      <td>1.0</td>\n",
       "      <td>0.0</td>\n",
       "      <td>0.0</td>\n",
       "      <td>0.0</td>\n",
       "      <td>0.0</td>\n",
       "      <td>4+ years</td>\n",
       "      <td>3851.0</td>\n",
       "    </tr>\n",
       "    <tr>\n",
       "      <th>1</th>\n",
       "      <td>2595</td>\n",
       "      <td>2008-09-09</td>\n",
       "      <td>within a few hours</td>\n",
       "      <td>50-89%</td>\n",
       "      <td>0.0</td>\n",
       "      <td>6.0</td>\n",
       "      <td>1.0</td>\n",
       "      <td>Midtown</td>\n",
       "      <td>Apartment</td>\n",
       "      <td>Entire home/apt</td>\n",
       "      <td>...</td>\n",
       "      <td>1.0</td>\n",
       "      <td>1.0</td>\n",
       "      <td>0.0</td>\n",
       "      <td>1.0</td>\n",
       "      <td>1.0</td>\n",
       "      <td>0.0</td>\n",
       "      <td>0.0</td>\n",
       "      <td>1.0</td>\n",
       "      <td>4+ years</td>\n",
       "      <td>-209.0</td>\n",
       "    </tr>\n",
       "    <tr>\n",
       "      <th>2</th>\n",
       "      <td>3831</td>\n",
       "      <td>2008-12-07</td>\n",
       "      <td>within an hour</td>\n",
       "      <td>90-99%</td>\n",
       "      <td>0.0</td>\n",
       "      <td>1.0</td>\n",
       "      <td>1.0</td>\n",
       "      <td>Clinton Hill</td>\n",
       "      <td>Other</td>\n",
       "      <td>Entire home/apt</td>\n",
       "      <td>...</td>\n",
       "      <td>1.0</td>\n",
       "      <td>1.0</td>\n",
       "      <td>0.0</td>\n",
       "      <td>1.0</td>\n",
       "      <td>1.0</td>\n",
       "      <td>1.0</td>\n",
       "      <td>0.0</td>\n",
       "      <td>1.0</td>\n",
       "      <td>4+ years</td>\n",
       "      <td>-425.0</td>\n",
       "    </tr>\n",
       "    <tr>\n",
       "      <th>3</th>\n",
       "      <td>5099</td>\n",
       "      <td>2009-02-02</td>\n",
       "      <td>unknown</td>\n",
       "      <td>unknown</td>\n",
       "      <td>0.0</td>\n",
       "      <td>1.0</td>\n",
       "      <td>0.0</td>\n",
       "      <td>Murray Hill</td>\n",
       "      <td>Apartment</td>\n",
       "      <td>Entire home/apt</td>\n",
       "      <td>...</td>\n",
       "      <td>0.0</td>\n",
       "      <td>0.0</td>\n",
       "      <td>1.0</td>\n",
       "      <td>1.0</td>\n",
       "      <td>0.0</td>\n",
       "      <td>0.0</td>\n",
       "      <td>0.0</td>\n",
       "      <td>0.0</td>\n",
       "      <td>4+ years</td>\n",
       "      <td>-187.0</td>\n",
       "    </tr>\n",
       "    <tr>\n",
       "      <th>4</th>\n",
       "      <td>5121</td>\n",
       "      <td>2009-02-03</td>\n",
       "      <td>unknown</td>\n",
       "      <td>unknown</td>\n",
       "      <td>0.0</td>\n",
       "      <td>1.0</td>\n",
       "      <td>0.0</td>\n",
       "      <td>Bedford-Stuyvesant</td>\n",
       "      <td>Apartment</td>\n",
       "      <td>Private room</td>\n",
       "      <td>...</td>\n",
       "      <td>0.0</td>\n",
       "      <td>0.0</td>\n",
       "      <td>0.0</td>\n",
       "      <td>1.0</td>\n",
       "      <td>0.0</td>\n",
       "      <td>1.0</td>\n",
       "      <td>0.0</td>\n",
       "      <td>0.0</td>\n",
       "      <td>4+ years</td>\n",
       "      <td>-237.0</td>\n",
       "    </tr>\n",
       "  </tbody>\n",
       "</table>\n",
       "<p>5 rows × 52 columns</p>\n",
       "</div>"
      ],
      "text/plain": [
       "     id  host_since  host_response_time host_response_rate  host_is_superhost  \\\n",
       "0  2060  2008-08-18  a few days or more              0-49%                0.0   \n",
       "1  2595  2008-09-09  within a few hours             50-89%                0.0   \n",
       "2  3831  2008-12-07      within an hour             90-99%                0.0   \n",
       "3  5099  2009-02-02             unknown            unknown                0.0   \n",
       "4  5121  2009-02-03             unknown            unknown                0.0   \n",
       "\n",
       "   host_listings_count  host_identity_verified neighbourhood_cleansed  \\\n",
       "0                  0.0                     0.0     Washington Heights   \n",
       "1                  6.0                     1.0                Midtown   \n",
       "2                  1.0                     1.0           Clinton Hill   \n",
       "3                  1.0                     0.0            Murray Hill   \n",
       "4                  1.0                     0.0     Bedford-Stuyvesant   \n",
       "\n",
       "  property_type        room_type  ...  child_friendly  parking  host_greeting  \\\n",
       "0         Other     Private room  ...             0.0      0.0            0.0   \n",
       "1     Apartment  Entire home/apt  ...             1.0      1.0            0.0   \n",
       "2         Other  Entire home/apt  ...             1.0      1.0            0.0   \n",
       "3     Apartment  Entire home/apt  ...             0.0      0.0            1.0   \n",
       "4     Apartment     Private room  ...             0.0      0.0            0.0   \n",
       "\n",
       "   internet  long_term_stays  pets_allowed  private_entrance  self_check_in  \\\n",
       "0       1.0              0.0           0.0               0.0            0.0   \n",
       "1       1.0              1.0           0.0               0.0            1.0   \n",
       "2       1.0              1.0           1.0               0.0            1.0   \n",
       "3       1.0              0.0           0.0               0.0            0.0   \n",
       "4       1.0              0.0           1.0               0.0            0.0   \n",
       "\n",
       "   time_since_first_review  time_since_last_review  \n",
       "0                 4+ years                  3851.0  \n",
       "1                 4+ years                  -209.0  \n",
       "2                 4+ years                  -425.0  \n",
       "3                 4+ years                  -187.0  \n",
       "4                 4+ years                  -237.0  \n",
       "\n",
       "[5 rows x 52 columns]"
      ]
     },
     "execution_count": 5,
     "metadata": {},
     "output_type": "execute_result"
    }
   ],
   "source": [
    "df = pd.read_csv(filepath)\n",
    "len(df.columns)\n",
    "df.head()"
   ]
  },
  {
   "cell_type": "code",
   "execution_count": 6,
   "metadata": {
    "scrolled": true,
    "slideshow": {
     "slide_type": "skip"
    }
   },
   "outputs": [
    {
     "data": {
      "text/plain": [
       "['id',\n",
       " 'host_since',\n",
       " 'host_response_time',\n",
       " 'host_response_rate',\n",
       " 'host_is_superhost',\n",
       " 'host_listings_count',\n",
       " 'host_identity_verified',\n",
       " 'neighbourhood_cleansed',\n",
       " 'property_type',\n",
       " 'room_type',\n",
       " 'accommodates',\n",
       " 'bathrooms',\n",
       " 'bedrooms',\n",
       " 'beds',\n",
       " 'price',\n",
       " 'security_deposit',\n",
       " 'cleaning_fee',\n",
       " 'guests_included',\n",
       " 'extra_people',\n",
       " 'minimum_nights',\n",
       " 'maximum_nights',\n",
       " 'availability_90',\n",
       " 'number_of_reviews',\n",
       " 'first_review',\n",
       " 'review_scores_rating',\n",
       " 'review_scores_accuracy',\n",
       " 'review_scores_cleanliness',\n",
       " 'review_scores_checkin',\n",
       " 'review_scores_communication',\n",
       " 'review_scores_location',\n",
       " 'review_scores_value',\n",
       " 'instant_bookable',\n",
       " 'cancellation_policy',\n",
       " 'host_days_active',\n",
       " 'air_conditioning',\n",
       " 'bed_linen',\n",
       " 'tv',\n",
       " 'coffee_machine',\n",
       " 'cooking_basics',\n",
       " 'white_goods',\n",
       " 'elevator',\n",
       " 'gym',\n",
       " 'child_friendly',\n",
       " 'parking',\n",
       " 'host_greeting',\n",
       " 'internet',\n",
       " 'long_term_stays',\n",
       " 'pets_allowed',\n",
       " 'private_entrance',\n",
       " 'self_check_in',\n",
       " 'time_since_first_review',\n",
       " 'time_since_last_review']"
      ]
     },
     "execution_count": 6,
     "metadata": {},
     "output_type": "execute_result"
    }
   ],
   "source": [
    "df.columns.tolist()"
   ]
  },
  {
   "cell_type": "markdown",
   "metadata": {
    "slideshow": {
     "slide_type": "slide"
    }
   },
   "source": [
    "## By creating lists of the unique items within a given feature, we can create dropdowns and consistent selectables for inquiring future hosts"
   ]
  },
  {
   "cell_type": "code",
   "execution_count": 7,
   "metadata": {
    "slideshow": {
     "slide_type": "fragment"
    }
   },
   "outputs": [],
   "source": [
    "def listMaker(column):\n",
    "    '''\n",
    "    Creates a list of unique items from a given column.\n",
    "    Input column name in string format.\n",
    "    '''\n",
    "    new_list = list(df[column].unique())\n",
    "    return new_list"
   ]
  },
  {
   "cell_type": "code",
   "execution_count": 8,
   "metadata": {
    "scrolled": true,
    "slideshow": {
     "slide_type": "skip"
    }
   },
   "outputs": [
    {
     "data": {
      "text/plain": [
       "15.5"
      ]
     },
     "execution_count": 8,
     "metadata": {},
     "output_type": "execute_result"
    }
   ],
   "source": [
    "max(listMaker('bathrooms'))"
   ]
  },
  {
   "cell_type": "code",
   "execution_count": 9,
   "metadata": {},
   "outputs": [],
   "source": [
    "style = {'description_width': 'initial'}"
   ]
  },
  {
   "cell_type": "code",
   "execution_count": 10,
   "metadata": {},
   "outputs": [],
   "source": [
    "room_types = listMaker('room_type')\n",
    "room_type = widgets.Select(\n",
    "    options=room_types,\n",
    "    value=room_types[0],\n",
    "    description='Property Type:',\n",
    "    disabled=False\n",
    ")"
   ]
  },
  {
   "cell_type": "code",
   "execution_count": 11,
   "metadata": {
    "slideshow": {
     "slide_type": "skip"
    }
   },
   "outputs": [],
   "source": [
    "neighborhoods = listMaker('neighbourhood_cleansed')\n",
    "neighborhood = widgets.Dropdown(\n",
    "    options=neighborhoods,\n",
    "    value=neighborhoods[0],\n",
    "    description='Neighborhood:',\n",
    "    disabled=False,\n",
    "    style=style\n",
    ")"
   ]
  },
  {
   "cell_type": "code",
   "execution_count": 29,
   "metadata": {},
   "outputs": [
    {
     "data": {
      "application/vnd.jupyter.widget-view+json": {
       "model_id": "f3d0d0a4e2d544f28dc6a9ca58facc6d",
       "version_major": 2,
       "version_minor": 0
      },
      "text/plain": [
       "BoundedFloatText(value=2.5, description='Bathrooms:', step=0.5, style=DescriptionStyle(description_width='init…"
      ]
     },
     "metadata": {},
     "output_type": "display_data"
    }
   ],
   "source": [
    "bathroom_count = widgets.BoundedFloatText(\n",
    "    value=2.5,\n",
    "    step=0.5,\n",
    "    description='Bathrooms:',\n",
    "    disabled=False,\n",
    "    style=style\n",
    ")\n",
    "bathroom_count"
   ]
  },
  {
   "cell_type": "code",
   "execution_count": 13,
   "metadata": {
    "slideshow": {
     "slide_type": "skip"
    }
   },
   "outputs": [],
   "source": [
    "prop_types = listMaker('property_type')\n",
    "property_type = widgets.Select(\n",
    "    options=prop_types,\n",
    "    value='Other',\n",
    "    # rows=10,\n",
    "    description='Property Type:',\n",
    "    disabled=False\n",
    ")"
   ]
  },
  {
   "cell_type": "code",
   "execution_count": 80,
   "metadata": {},
   "outputs": [
    {
     "data": {
      "application/vnd.jupyter.widget-view+json": {
       "model_id": "78e03f760faf4da9986c8aabd4d0b3b8",
       "version_major": 2,
       "version_minor": 0
      },
      "text/plain": [
       "GridBox(children=(Checkbox(value=False, description='Air conditioning'), Checkbox(value=False, description='Be…"
      ]
     },
     "metadata": {},
     "output_type": "display_data"
    }
   ],
   "source": [
    "new_strings=[]\n",
    "for amen in amenities:\n",
    "    new_amen = amen.replace('_', ' ')\n",
    "    new_amen = new_amen[0].upper()+new_amen[1:]\n",
    "    new_strings.append(new_amen)\n",
    "    \n",
    "amenities = df.columns[34:49].tolist()\n",
    "items_amenities = [widgets.Checkbox(\n",
    "    value=False,\n",
    "    description=string,\n",
    "    disabled=False\n",
    ") for string in new_strings]\n",
    "amen_checklist = widgets.GridBox(items_amenities, \n",
    "                                 layout=Layout(\n",
    "                                        width='80%',\n",
    "                                        grid_template_rows='auto auto auto auto',\n",
    "                                        grid_template_columns='20% 20% 20% 20%',\n",
    "                                        grid_template_areas='''\n",
    "                                        \"header header header header\"\n",
    "                                        \"main main . sidebar \"\n",
    "                                        \"footer footer footer footer\"\n",
    "                                        '''))\n",
    "amen_checklist"
   ]
  },
  {
   "cell_type": "code",
   "execution_count": 81,
   "metadata": {},
   "outputs": [
    {
     "data": {
      "text/plain": [
       "[False,\n",
       " False,\n",
       " False,\n",
       " False,\n",
       " False,\n",
       " False,\n",
       " False,\n",
       " False,\n",
       " False,\n",
       " False,\n",
       " False,\n",
       " False,\n",
       " False,\n",
       " False,\n",
       " False]"
      ]
     },
     "execution_count": 81,
     "metadata": {},
     "output_type": "execute_result"
    }
   ],
   "source": [
    "amen_values = [amen_checklist.children[i].value for i in range(0, len(amen_checklist.children))]\n",
    "amen_values"
   ]
  },
  {
   "cell_type": "code",
   "execution_count": 84,
   "metadata": {},
   "outputs": [
    {
     "data": {
      "text/plain": [
       "[('air_conditioning', False),\n",
       " ('bed_linen', False),\n",
       " ('tv', False),\n",
       " ('coffee_machine', False),\n",
       " ('cooking_basics', False),\n",
       " ('white_goods', False),\n",
       " ('elevator', False),\n",
       " ('gym', False),\n",
       " ('child_friendly', False),\n",
       " ('parking', False),\n",
       " ('host_greeting', False),\n",
       " ('internet', False),\n",
       " ('long_term_stays', False),\n",
       " ('pets_allowed', False),\n",
       " ('private_entrance', False)]"
      ]
     },
     "execution_count": 84,
     "metadata": {},
     "output_type": "execute_result"
    }
   ],
   "source": [
    "amen_tuples = zip(amenities, amen_values)\n",
    "list(amen_tuples)"
   ]
  },
  {
   "cell_type": "code",
   "execution_count": 17,
   "metadata": {
    "slideshow": {
     "slide_type": "skip"
    }
   },
   "outputs": [],
   "source": [
    "accommodation_count = widgets.BoundedIntText(\n",
    "    value=3,\n",
    "    step=1,\n",
    "    description='Accommodates:',\n",
    "    disabled=False,\n",
    "    style=style\n",
    ")"
   ]
  },
  {
   "cell_type": "code",
   "execution_count": 40,
   "metadata": {
    "slideshow": {
     "slide_type": "skip"
    }
   },
   "outputs": [],
   "source": [
    "layout_fees = Layout( width='85%')\n",
    "cleaning_fee = widgets.RadioButtons(\n",
    "    options=['Yes', 'No'],\n",
    "    description='Cleaning Fee?',\n",
    "    disabled=False,\n",
    "    style=style\n",
    ")\n",
    "security_deposit = widgets.RadioButtons(\n",
    "    options=['Yes', 'No'],\n",
    "    description='Security Deposit?',\n",
    "    disabled=False,\n",
    "    style=style\n",
    ")\n",
    "guests_included = widgets.IntSlider(\n",
    "    value=1,\n",
    "    min=1,\n",
    "    max=16,\n",
    "    step=1,\n",
    "    description='Guests Included:',\n",
    "    disabled=False,\n",
    "    continuous_update=False,\n",
    "    orientation='horizontal',\n",
    "    readout=True,\n",
    "    readout_format='d',\n",
    "    style=style,\n",
    "    layout=layout_fees\n",
    ")\n",
    "extra_ppl_cost = widgets.RadioButtons(\n",
    "    options=['Yes', 'No'],\n",
    "    description='Extra Persons Fee?',\n",
    "    disabled=False,\n",
    "    style=style\n",
    ")"
   ]
  },
  {
   "cell_type": "code",
   "execution_count": 53,
   "metadata": {
    "slideshow": {
     "slide_type": "skip"
    }
   },
   "outputs": [],
   "source": [
    "minimum_nights = widgets.BoundedIntText(\n",
    "    value=1,\n",
    "    min=1,\n",
    "    max=1500,\n",
    "    step=1,\n",
    "    description='Minimum Night Stay:',\n",
    "    disabled=False,\n",
    "    style=style\n",
    ")\n",
    "maximum_nights = widgets.BoundedIntText(\n",
    "    value=1,\n",
    "    min=1,\n",
    "    max=1500,\n",
    "    step=1,\n",
    "    description='Maximum Nights:',\n",
    "    disabled=False,\n",
    "    style=style\n",
    ")\n",
    "availability_90 = widgets.BoundedIntText(\n",
    "    value=1,\n",
    "    min=0,\n",
    "    max=90,\n",
    "    step=1,\n",
    "    description='Available Days out of 90:',\n",
    "    disabled=False,\n",
    "    style=style\n",
    ")"
   ]
  },
  {
   "cell_type": "code",
   "execution_count": 41,
   "metadata": {},
   "outputs": [],
   "source": [
    "fees_vbox = widgets.VBox([cleaning_fee, extra_ppl_cost, security_deposit])"
   ]
  },
  {
   "cell_type": "code",
   "execution_count": 47,
   "metadata": {
    "scrolled": true,
    "slideshow": {
     "slide_type": "skip"
    }
   },
   "outputs": [
    {
     "data": {
      "application/vnd.jupyter.widget-view+json": {
       "model_id": "fe55cf4896df42529e0440f8cab7533b",
       "version_major": 2,
       "version_minor": 0
      },
      "text/plain": [
       "Accordion(children=(Dropdown(description='Neighborhood:', options=('Washington Heights', 'Midtown', 'Clinton H…"
      ]
     },
     "metadata": {},
     "output_type": "display_data"
    }
   ],
   "source": [
    "accordion_property = widgets.Accordion(children=[neighborhood, property_type, room_type, bathroom_count, accommodation_count])\n",
    "accordion_property.set_title(0, 'Neighborhood')\n",
    "accordion_property.set_title(1, 'Property Type')\n",
    "accordion_property.set_title(2, 'Room Type')\n",
    "accordion_property.set_title(3, 'Bathrooms')\n",
    "accordion_property.set_title(4, 'Total Accommodation')\n",
    "accordion_property.selected_index = None\n",
    "accordion_property"
   ]
  },
  {
   "cell_type": "code",
   "execution_count": 55,
   "metadata": {
    "scrolled": true,
    "slideshow": {
     "slide_type": "skip"
    }
   },
   "outputs": [
    {
     "data": {
      "application/vnd.jupyter.widget-view+json": {
       "model_id": "653882f85cc94c4e8fe49ed03fd82c36",
       "version_major": 2,
       "version_minor": 0
      },
      "text/plain": [
       "Accordion(children=(BoundedIntText(value=1, description='Available Days out of 90:', max=90, style=Description…"
      ]
     },
     "metadata": {},
     "output_type": "display_data"
    }
   ],
   "source": [
    "accordion_dimensions = widgets.Accordion(children=[availability_90, minimum_nights, maximum_nights, fees_vbox])\n",
    "accordion_dimensions.set_title(0, 'Availability 90')\n",
    "accordion_dimensions.set_title(1, 'Minimum Nights')\n",
    "accordion_dimensions.set_title(2, 'Maximum Nights')\n",
    "accordion_dimensions.set_title(3, 'Optional Fees')\n",
    "accordion_dimensions.selected_index = None\n",
    "accordion_dimensions"
   ]
  },
  {
   "cell_type": "code",
   "execution_count": 85,
   "metadata": {
    "scrolled": true,
    "slideshow": {
     "slide_type": "skip"
    }
   },
   "outputs": [],
   "source": [
    "UserInput = widgets.Tab()\n",
    "UserInput.children = [accordion_property, accordion_dimensions, amen_checklist]\n",
    "UserInput.set_title(0, 'Property Details')\n",
    "UserInput.set_title(1, 'Availability and Fees')\n",
    "UserInput.set_title(2, 'Amenities Offered')"
   ]
  },
  {
   "cell_type": "markdown",
   "metadata": {
    "slideshow": {
     "slide_type": "slide"
    }
   },
   "source": [
    "## Using the features determined to hold the most weight in determining price, we built an input form regarding a prospective host's property dimensions"
   ]
  },
  {
   "cell_type": "code",
   "execution_count": 86,
   "metadata": {
    "scrolled": true,
    "slideshow": {
     "slide_type": "subslide"
    }
   },
   "outputs": [
    {
     "data": {
      "application/vnd.jupyter.widget-view+json": {
       "model_id": "ac05ef9343de4f03be335166d6451605",
       "version_major": 2,
       "version_minor": 0
      },
      "text/plain": [
       "Tab(children=(Accordion(children=(Dropdown(description='Neighborhood:', options=('Washington Heights', 'Midtow…"
      ]
     },
     "metadata": {},
     "output_type": "display_data"
    }
   ],
   "source": [
    "UserInput"
   ]
  },
  {
   "cell_type": "markdown",
   "metadata": {
    "slideshow": {
     "slide_type": "slide"
    }
   },
   "source": [
    "### Click to summarize your property information"
   ]
  },
  {
   "cell_type": "code",
   "execution_count": null,
   "metadata": {
    "slideshow": {
     "slide_type": "skip"
    }
   },
   "outputs": [],
   "source": [
    "def PropertyDetails(b):\n",
    "    with output:\n",
    "        prop_details = f'''\n",
    "Review of Property Details\n",
    "\n",
    "    Borough:               {borough.value} \n",
    "    Neighborhood:          {neighborhood.value}\n",
    "    Zip:                   {zipcode.value}\n",
    "\n",
    "    Property Type:         {property_type.value}\n",
    "    Accommodation Count:   {accommodation_count.value}\n",
    "    Bedroom Count:         {bedroom_count.value} \n",
    "    Bathroom Count:        {bath_count.value}\n",
    "    Bed Count:             {bed_count.value} \n",
    "    Bed Type:              {bed_type.value}''')\n",
    "        "
   ]
  },
  {
   "cell_type": "code",
   "execution_count": null,
   "metadata": {
    "slideshow": {
     "slide_type": "fragment"
    }
   },
   "outputs": [],
   "source": [
    "from IPython.display import display\n",
    "button = widgets.Button(description=\"Click Me!\", button_style='success')\n",
    "output = widgets.Output()\n",
    "\n",
    "display(button, output)\n",
    "button.on_click(PropertyDetails)"
   ]
  }
 ],
 "metadata": {
  "celltoolbar": "Slideshow",
  "kernelspec": {
   "display_name": "Python 3",
   "language": "python",
   "name": "python3"
  },
  "language_info": {
   "codemirror_mode": {
    "name": "ipython",
    "version": 3
   },
   "file_extension": ".py",
   "mimetype": "text/x-python",
   "name": "python",
   "nbconvert_exporter": "python",
   "pygments_lexer": "ipython3",
   "version": "3.8.3"
  }
 },
 "nbformat": 4,
 "nbformat_minor": 4
}
